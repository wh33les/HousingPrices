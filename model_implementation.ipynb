{
 "cells": [
  {
   "cell_type": "markdown",
   "metadata": {},
   "source": [
    "# Model implementation\n",
    "\n",
    "The model that performed best was XGBoost on fold no. 2.  So we need to preprocess the test data then implement the model."
   ]
  },
  {
   "cell_type": "code",
   "execution_count": 1,
   "metadata": {},
   "outputs": [],
   "source": [
    "import json\n",
    "\n",
    "import matplotlib.pyplot as plt\n",
    "import pandas as pd\n",
    "import seaborn as sns\n",
    "from prince import MCA\n",
    "from sklearn.impute import KNNImputer, SimpleImputer\n",
    "from sklearn.pipeline import Pipeline\n",
    "from sklearn.preprocessing import OneHotEncoder\n",
    "from xgboost import XGBRegressor"
   ]
  },
  {
   "cell_type": "code",
   "execution_count": 2,
   "metadata": {},
   "outputs": [],
   "source": [
    "# Load the test data and the correct fold for training\n",
    "with open(\"raw_data/dtypes.json\", \"r\") as file:\n",
    "    dtypes = json.load(file)\n",
    "df_test = pd.read_csv(\"raw_data/exp_test.csv\", dtype=dtypes)\n",
    "df_test = df_test.iloc[:, :-1]\n",
    "df_train_final = pd.read_csv(\"raw_data/exp_train.csv\", dtype=dtypes)"
   ]
  },
  {
   "cell_type": "code",
   "execution_count": 3,
   "metadata": {},
   "outputs": [],
   "source": [
    "# Impute `GarageYrBlt`\n",
    "yr_impute = SimpleImputer(strategy=\"constant\", fill_value=0)\n",
    "df_test.loc[:, \"GarageYrBlt\"] = pd.DataFrame(\n",
    "    yr_impute.fit_transform(df_test[[\"GarageYrBlt\"]])\n",
    ")"
   ]
  },
  {
   "cell_type": "code",
   "execution_count": 4,
   "metadata": {},
   "outputs": [],
   "source": [
    "# Preprocessing pipelines for the numerical features\n",
    "num_med_cols = [\n",
    "    \"LotFrontage\",\n",
    "    \"LotArea\",\n",
    "    \"OverallQual\",\n",
    "    \"OverallCond\",\n",
    "    \"YearBuilt\",\n",
    "    \"TotalBsmtSF\",\n",
    "    \"1stFlrSF\",\n",
    "    \"GrLivArea\",\n",
    "    \"BsmtFullBath\",\n",
    "    \"FullBath\",\n",
    "    \"HalfBath\",\n",
    "    \"BedroomAbvGr\",\n",
    "    \"TotRmsAbvGrd\",\n",
    "    \"Fireplaces\",\n",
    "    \"GarageCars\",\n",
    "    \"GarageArea\",\n",
    "    \"YrSold\",\n",
    "]\n",
    "num_mode_cols = [\n",
    "    \"LandSlope\",\n",
    "    \"LotShape\",\n",
    "    \"ExterQual\",\n",
    "    \"ExterCond\",\n",
    "    \"BsmtQual\",\n",
    "    \"HeatingQC\",\n",
    "    \"KitchenQual\",\n",
    "    \"GarageFinish\",\n",
    "    \"BsmtCond\",\n",
    "    \"BsmtExposure\",\n",
    "    \"BsmtFinType1\",\n",
    "    \"BsmtFinType2\",\n",
    "    \"Functional\",\n",
    "    \"FireplaceQu\",\n",
    "    \"GarageQual\",\n",
    "    \"GarageCond\",\n",
    "    \"PavedDrive\",\n",
    "    \"Fence\",\n",
    "    \"PoolQC\",  # (ordinals)\n",
    "    \"YearRemodAdd\",\n",
    "    \"MasVnrArea\",\n",
    "    \"BsmtFinSF1\",\n",
    "    \"BsmtFinSF2\",\n",
    "    \"BsmtUnfSF\",\n",
    "    \"2ndFlrSF\",\n",
    "    \"LowQualFinSF\",\n",
    "    \"BsmtHalfBath\",\n",
    "    \"KitchenAbvGr\",\n",
    "    \"GarageYrBlt\",\n",
    "    \"WoodDeckSF\",\n",
    "    \"OpenPorchSF\",\n",
    "    \"EnclosedPorch\",\n",
    "    \"3SsnPorch\",\n",
    "    \"ScreenPorch\",\n",
    "    \"PoolArea\",\n",
    "    \"MiscVal\",\n",
    "]\n",
    "len_num_cols = len(num_med_cols) + len(num_mode_cols)\n",
    "pipe_num_med = Pipeline([(\"impute\", SimpleImputer(strategy=\"median\"))])\n",
    "pipe_num_mode = Pipeline([(\"impute\", KNNImputer())])"
   ]
  },
  {
   "cell_type": "code",
   "execution_count": 5,
   "metadata": {},
   "outputs": [],
   "source": [
    "# Preprocessing for categorical features\n",
    "cat_cols = (\n",
    "    df_train_final.select_dtypes(include=\"object\")\n",
    "    .drop(columns=[\"Id\"])\n",
    "    .columns.to_list()\n",
    ")\n",
    "\n",
    "# OHE\n",
    "ohe = OneHotEncoder(handle_unknown=\"ignore\")\n",
    "id_tf = df_train_final[\"Id\"]\n",
    "id_test = df_test[\"Id\"]\n",
    "ohe_transformed_tf = pd.DataFrame(ohe.fit_transform(df_train_final[cat_cols]).toarray())\n",
    "ohe_transformed_test = pd.DataFrame(ohe.transform(df_test[cat_cols]).toarray())\n",
    "prices_tf = df_train_final[\"SalePrice\"]\n",
    "cols1 = num_med_cols + num_mode_cols\n",
    "cols2 = ohe_transformed_tf.columns.to_list()\n",
    "cols3 = [\"SalePrice\"]\n",
    "df_train_final = pd.concat(\n",
    "    [\n",
    "        id_tf.reset_index(drop=True),\n",
    "        df_train_final[cols1].reset_index(drop=True),\n",
    "        ohe_transformed_tf.reset_index(drop=True),\n",
    "        prices_tf.reset_index(drop=True),\n",
    "    ],\n",
    "    axis=1,\n",
    "    ignore_index=True,\n",
    ")\n",
    "df_train_final.columns = [\"Id\"] + cols1 + [str(x) for x in cols2] + cols3\n",
    "df_test = pd.concat(\n",
    "    [\n",
    "        id_test.reset_index(drop=True),\n",
    "        df_test[cols1].reset_index(drop=True),\n",
    "        ohe_transformed_test.reset_index(drop=True),\n",
    "    ],\n",
    "    axis=1,\n",
    "    ignore_index=True,\n",
    ")\n",
    "df_test.columns = [\"Id\"] + cols1 + [str(x) for x in cols2]\n",
    "new_cat_cols = [str(x) for x in cols2]\n",
    "\n",
    "# Make the cat cols pipeline\n",
    "pipe_cat = MCA(n_components=len(new_cat_cols) - 1, one_hot=False)"
   ]
  },
  {
   "cell_type": "code",
   "execution_count": 6,
   "metadata": {},
   "outputs": [],
   "source": [
    "# Run the pipelines (tried ColumnTransformer and it was problematic)\n",
    "tf_num_med_transf = pd.DataFrame(\n",
    "    pipe_num_med.fit_transform(df_train_final[num_med_cols])\n",
    ")\n",
    "test_num_med_transf = pd.DataFrame(\n",
    "    pipe_num_med.transform(df_train_final[num_med_cols])\n",
    ").reset_index(drop=True)\n",
    "\n",
    "tf_num_mode_transf = pd.DataFrame(\n",
    "    pipe_num_mode.fit_transform(df_train_final[num_mode_cols])\n",
    ")\n",
    "test_num_mode_transf = pd.DataFrame(\n",
    "    pipe_num_mode.transform(df_test[num_mode_cols])\n",
    ").reset_index(drop=True)\n",
    "\n",
    "tf_cat_tranf = pd.DataFrame(pipe_cat.fit_transform(df_train_final[new_cat_cols]))\n",
    "test_cat_tranf = pd.DataFrame(pipe_cat.transform(df_test[new_cat_cols])).reset_index(\n",
    "    drop=True\n",
    ")\n",
    "\n",
    "df_train_final = pd.concat(\n",
    "    [\n",
    "        df_train_final[\"Id\"],\n",
    "        tf_num_med_transf,\n",
    "        tf_num_mode_transf,\n",
    "        tf_cat_tranf,\n",
    "        df_train_final[\"SalePrice\"],\n",
    "    ],\n",
    "    axis=1,\n",
    ")\n",
    "df_test = pd.concat(\n",
    "    [df_test[\"Id\"], test_num_med_transf, test_num_mode_transf, test_cat_tranf],\n",
    "    axis=1,\n",
    "    ignore_index=True,\n",
    ").iloc[:1459, :]"
   ]
  },
  {
   "cell_type": "code",
   "execution_count": 7,
   "metadata": {},
   "outputs": [],
   "source": [
    "# Determine the number of components to keep from MCA\n",
    "exp_var = 0.8\n",
    "eigenvalues = pipe_cat.eigenvalues_\n",
    "total_inertia = eigenvalues.sum()\n",
    "evr_list = eigenvalues / total_inertia\n",
    "exp_var_sum = 0\n",
    "n_comp = 0\n",
    "for j in range(len(evr_list)):\n",
    "    exp_var_sum = exp_var_sum + evr_list[j]\n",
    "    if exp_var_sum <= exp_var:\n",
    "        n_comp += 1\n",
    "    else:\n",
    "        break\n",
    "\n",
    "# Cut the extraneous features in the categorical dataframe\n",
    "n_cols = 1 + len_num_cols + n_comp\n",
    "df_train_final = df_train_final.iloc[:, list(range(n_cols)) + [-1]]\n",
    "df_train_final.columns = (\n",
    "    [\"Id\"] + num_med_cols + num_mode_cols + list(range(n_comp)) + [\"SalePrice\"]\n",
    ")\n",
    "df_test = df_test.iloc[:, list(range(n_cols))]\n",
    "df_test.columns = [\"Id\"] + num_med_cols + num_mode_cols + list(range(n_comp))"
   ]
  },
  {
   "cell_type": "code",
   "execution_count": 8,
   "metadata": {},
   "outputs": [],
   "source": [
    "# Fit the model\n",
    "xgradboost = XGBRegressor()\n",
    "xgradboost.fit(df_train_final.iloc[:, 1:-1], df_train_final.iloc[:, -1])\n",
    "y_pred = xgradboost.predict(df_test.iloc[:, 1:])"
   ]
  },
  {
   "cell_type": "code",
   "execution_count": 9,
   "metadata": {},
   "outputs": [],
   "source": [
    "# Export the result to a file\n",
    "submission = pd.DataFrame({\"Id\": df_test[\"Id\"], \"SalePrice\": y_pred})\n",
    "submission.to_csv(\"submission.csv\", index=False)"
   ]
  },
  {
   "cell_type": "markdown",
   "metadata": {},
   "source": [
    "Check the distribution of the solution:"
   ]
  },
  {
   "cell_type": "code",
   "execution_count": 10,
   "metadata": {},
   "outputs": [
    {
     "name": "stdout",
     "output_type": "stream",
     "text": [
      "count      1459.000000\n",
      "mean     177952.453125\n",
      "std       64794.980469\n",
      "min       52734.128906\n",
      "25%      134942.703125\n",
      "50%      165217.625000\n",
      "75%      205268.984375\n",
      "max      553456.937500\n",
      "Name: SalePrice, dtype: float64\n"
     ]
    },
    {
     "data": {
      "text/plain": [
       "<Axes: xlabel='SalePrice', ylabel='Count'>"
      ]
     },
     "execution_count": 10,
     "metadata": {},
     "output_type": "execute_result"
    },
    {
     "data": {
      "image/png": "[encoded data removed]",
      "text/plain": [
       "<Figure size 800x600 with 1 Axes>"
      ]
     },
     "metadata": {},
     "output_type": "display_data"
    }
   ],
   "source": [
    "print(submission[\"SalePrice\"].describe())\n",
    "plt.figure(figsize=(8, 6))\n",
    "sns.histplot(submission[\"SalePrice\"])"
   ]
  }
 ],
 "metadata": {
  "kernelspec": {
   "display_name": "housing_prices_venv",
   "language": "python",
   "name": "python3"
  },
  "language_info": {
   "codemirror_mode": {
    "name": "ipython",
    "version": 3
   },
   "file_extension": ".py",
   "mimetype": "text/x-python",
   "name": "python",
   "nbconvert_exporter": "python",
   "pygments_lexer": "ipython3",
   "version": "3.12.4"
  }
 },
 "nbformat": 4,
 "nbformat_minor": 2
}
